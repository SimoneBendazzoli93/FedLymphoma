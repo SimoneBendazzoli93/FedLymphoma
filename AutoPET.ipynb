{
 "cells": [
  {
   "cell_type": "markdown",
   "metadata": {},
   "source": [
    "# AutoPET Dataset\n",
    "\n",
    "To download the dataset, please visit the following link: [AutoPET Dataset](https://it-portal.med.uni-muenchen.de/autopet/Autopet_v1.1.tgz)\n",
    "\n",
    "The dataset is provided in the nnUNet format and contains resampled FDG and PSMA images as NIFTI. It also includes the files obtained by running the nnUNet fingerprint extractor and a splits file which can be used to train nnUNet models. The dataset includes the following training cases: 1,014 FDG studies (900 patients) and 597 PSMA studies (378 patients)."
   ]
  },
  {
   "cell_type": "markdown",
   "metadata": {},
   "source": [
    "```text\n",
    "|--- imagesTr\n",
    "     |--- tracer_patient1_study1_0000.nii.gz  (CT image resampled to PET)\n",
    "\n",
    "     |--- tracer_patient1_study1_0001.nii.gz  (PET image in SUV)\n",
    "     |--- ...\n",
    "|--- labelsTr\n",
    "     |--- tracer_patient1_study1.nii.gz       (manual annotations of tumor lesions)\n",
    "\n",
    "|--- dataset.json                             (nnUNet dataset description)\n",
    "|--- dataset_fingerprint.json                 (nnUNet dataset fingerprint)\n",
    "\n",
    "|--- splits_final.json                        (reference 5fold split)\n",
    "\n",
    "|--- psma_metadata.csv                        (metadata csv for psma)\n",
    "\n",
    "|--- fdg_metadata.csv                         (original metadata csv for fdg)\n",
    "```"
   ]
  },
  {
   "cell_type": "markdown",
   "metadata": {},
   "source": [
    "## Filter Lymphoma Cases"
   ]
  },
  {
   "cell_type": "code",
   "execution_count": null,
   "metadata": {},
   "outputs": [],
   "source": [
    "import pandas as pd\n",
    "import os\n",
    "from monai.transforms import LoadImaged, ConcatItemsd, EnsureChannelFirstD, Compose, SaveImageD\n",
    "from collections import defaultdict\n",
    "from pathlib import Path\n",
    "import numpy as np\n",
    "import shutil"
   ]
  },
  {
   "cell_type": "code",
   "execution_count": null,
   "metadata": {},
   "outputs": [],
   "source": [
    "dataset_dir = \"2024-05-10_Autopet_v1.1\""
   ]
  },
  {
   "cell_type": "code",
   "execution_count": 3,
   "metadata": {},
   "outputs": [],
   "source": [
    "df = pd.read_csv(os.path.join(dataset_dir,\"fdg_metadata.csv\"))"
   ]
  },
  {
   "cell_type": "code",
   "execution_count": 4,
   "metadata": {},
   "outputs": [],
   "source": [
    "patient_classes = {}\n",
    "\n",
    "for row in df.iterrows():\n",
    "    patient_classes['fdg_'+row[1]['Subject ID'].split(\"_\")[1]] = row[1]['diagnosis']"
   ]
  },
  {
   "cell_type": "code",
   "execution_count": null,
   "metadata": {},
   "outputs": [],
   "source": [
    "\n",
    "\n",
    "\n",
    "grouped = defaultdict(list)\n",
    "\n",
    "for key, cls in patient_classes.items():\n",
    "    grouped[cls].append(key)\n",
    "\n",
    "grouped_patient_classes = dict(grouped)"
   ]
  },
  {
   "cell_type": "code",
   "execution_count": 6,
   "metadata": {},
   "outputs": [],
   "source": [
    "lymphoma_subjects = grouped_patient_classes['LYMPHOMA']"
   ]
  },
  {
   "cell_type": "markdown",
   "metadata": {},
   "source": [
    "## Create Decathlon Dataset with Lymphoma Cases\n",
    "\n",
    "The PET-CT modalities are also combined into a 4-D Volume."
   ]
  },
  {
   "cell_type": "code",
   "execution_count": 7,
   "metadata": {},
   "outputs": [],
   "source": [
    "def subfiles(folder, prefix=None, suffix=None, join=True, sort=True):\n",
    "    files = [f for f in os.listdir(folder) if os.path.isfile(os.path.join(folder, f))]\n",
    "    if prefix is not None:\n",
    "        files = [f for f in files if f.startswith(prefix)]\n",
    "    if suffix is not None:\n",
    "        files = [f for f in files if f.endswith(suffix)]\n",
    "    if sort:\n",
    "        files.sort()\n",
    "    if join:\n",
    "        files = [os.path.join(folder, f) for f in files]\n",
    "    return files"
   ]
  },
  {
   "cell_type": "code",
   "execution_count": 10,
   "metadata": {},
   "outputs": [],
   "source": [
    "image_files = subfiles(os.path.join(dataset_dir,\"imagesTr\"), join=False)"
   ]
  },
  {
   "cell_type": "code",
   "execution_count": 11,
   "metadata": {},
   "outputs": [],
   "source": [
    "patient_ids = [image_file[:-len(\"_0000.nii.gz\")] for image_file in image_files]"
   ]
  },
  {
   "cell_type": "code",
   "execution_count": null,
   "metadata": {},
   "outputs": [],
   "source": [
    "patient_ids = np.unique(patient_ids)"
   ]
  },
  {
   "cell_type": "code",
   "execution_count": null,
   "metadata": {},
   "outputs": [],
   "source": [
    "output_dir = Path(\"Data/Task100_AutoPET_Lymphoma\")\n",
    "\n",
    "imgs_output_dir = Path(output_dir).joinpath(\"imagesTr\")\n",
    "labels_output_dir = Path(output_dir).joinpath(\"labelsTr\")\n",
    "test_imgs_output_dir = Path(output_dir).joinpath(\"imagesTs\")"
   ]
  },
  {
   "cell_type": "code",
   "execution_count": 14,
   "metadata": {},
   "outputs": [],
   "source": [
    "imgs_output_dir.mkdir(parents=True, exist_ok=True)\n",
    "labels_output_dir.mkdir(parents=True, exist_ok=True)\n",
    "test_imgs_output_dir.mkdir(parents=True, exist_ok=True)"
   ]
  },
  {
   "cell_type": "markdown",
   "metadata": {},
   "source": [
    "Create the Transform to Concatenate the PET and CT Images and Save the 4-D Volume."
   ]
  },
  {
   "cell_type": "code",
   "execution_count": 17,
   "metadata": {},
   "outputs": [],
   "source": [
    "transform = Compose([\n",
    "    LoadImaged(keys=[\"CT\", \"PET\"]),\n",
    "    EnsureChannelFirstD(keys=[\"CT\", \"PET\"]),\n",
    "    ConcatItemsd(keys=[\"CT\", \"PET\"], name=\"image\"),\n",
    "    SaveImageD(keys=[\"image\"], output_dir=imgs_output_dir, output_postfix=\"\",separate_folder=False),\n",
    "])"
   ]
  },
  {
   "cell_type": "code",
   "execution_count": null,
   "metadata": {},
   "outputs": [],
   "source": [
    "\n",
    "for patient_id in patient_ids:\n",
    "    if \"_\".join(patient_id.split(\"_\")[:2]) in lymphoma_subjects:\n",
    "        transform({\"CT\": f\"imagesTr/{patient_id}_0000.nii.gz\", \"PET\": f\"imagesTr/{patient_id}_0001.nii.gz\"})\n",
    "        shutil.copy(f\"labelsTr/{patient_id}.nii.gz\", Path(labels_output_dir).joinpath(f\"{patient_id}.nii.gz\"))"
   ]
  }
 ],
 "metadata": {
  "kernelspec": {
   "display_name": "MONAI",
   "language": "python",
   "name": "python3"
  },
  "language_info": {
   "codemirror_mode": {
    "name": "ipython",
    "version": 3
   },
   "file_extension": ".py",
   "mimetype": "text/x-python",
   "name": "python",
   "nbconvert_exporter": "python",
   "pygments_lexer": "ipython3",
   "version": "3.10.16"
  }
 },
 "nbformat": 4,
 "nbformat_minor": 2
}
